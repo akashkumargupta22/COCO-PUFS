{
  "nbformat": 4,
  "nbformat_minor": 0,
  "metadata": {
    "colab": {
      "provenance": []
    },
    "kernelspec": {
      "name": "python3",
      "display_name": "Python 3"
    },
    "language_info": {
      "name": "python"
    }
  },
  "cells": [
    {
      "cell_type": "code",
      "execution_count": null,
      "metadata": {
        "id": "f_28A27quy9a"
      },
      "outputs": [],
      "source": [
        "import numpy as np\n",
        "from submit import my_map\n",
        "from submit import my_fit\n",
        "import time as tm"
      ]
    },
    {
      "cell_type": "code",
      "source": [
        "Z_trn = np.loadtxt( \"secret_train.dat\" )\n",
        "Z_tst = np.loadtxt( \"secret_test.dat\" )\n",
        "\n",
        "n_trials = 5\n",
        "\n",
        "d_size = 0\n",
        "t_train = 0\n",
        "t_map = 0\n",
        "acc0 = 0\n",
        "acc1 = 0"
      ],
      "metadata": {
        "id": "UuVf30bLu5UM"
      },
      "execution_count": null,
      "outputs": []
    },
    {
      "cell_type": "code",
      "source": [
        "for t in range( n_trials ):\n",
        "\ttic = tm.perf_counter()\n",
        "\tw0, b0, w1, b1 = my_fit( Z_trn[:, :-2], Z_trn[:,-2], Z_trn[:,-1] )\n",
        "  toc = tm.perf_counter()\n",
        "\n",
        "\tt_train += toc - tic\n",
        "  w0 = w0.reshape( -1 )\n",
        "  w1 = w1.reshape( -1 )\n",
        "\n",
        "\td_size += max( w0.shape[0], w1.shape[0] )\n",
        "\n",
        "\ttic = tm.perf_counter()\n",
        "\tfeat = my_map( Z_tst[:, :-2] )\n",
        "\ttoc = tm.perf_counter()\n",
        "\tt_map += toc - tic\n",
        "\n",
        "\tscores0 = feat.dot( w0 ) + b0\n",
        "  scores1 = feat.dot( w1 ) + b1\n",
        "\n",
        "\tpred0 = np.zeros_like( scores0 )\n",
        "\tpred0[ scores0 > 0 ] = 1\n",
        "  pred1 = np.zeros_like( scores1 )\n",
        "\tpred1[ scores1 > 0 ] = 1\n",
        "\n",
        "\tacc0 += np.average( Z_tst[ :, -2 ] == pred0 )\n",
        "  acc1 += np.average( Z_tst[ :, -1 ] == pred1 )"
      ],
      "metadata": {
        "id": "ZwZjs84Qu9JB"
      },
      "execution_count": null,
      "outputs": []
    },
    {
      "cell_type": "code",
      "source": [
        "d_size /= n_trials\n",
        "t_train /= n_trials\n",
        "t_map /= n_trials\n",
        "acc0 /= n_trials\n",
        "acc1 /= n_trials"
      ],
      "metadata": {
        "id": "ZVME7vsvwf5a"
      },
      "execution_count": null,
      "outputs": []
    },
    {
      "cell_type": "code",
      "source": [
        "print( f\"{d_size},{t_train},{t_map},{1 - acc0},{1 - acc1}\" )"
      ],
      "metadata": {
        "id": "uimnuV7NwjlY"
      },
      "execution_count": null,
      "outputs": []
    }
  ]
}